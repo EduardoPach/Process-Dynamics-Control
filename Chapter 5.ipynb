{
 "cells": [
  {
   "cell_type": "markdown",
   "metadata": {},
   "source": [
    "# Process Dynamics and Control\n",
    "## Chapter 5 Exercises:"
   ]
  },
  {
   "cell_type": "code",
   "execution_count": 1,
   "metadata": {},
   "outputs": [],
   "source": [
    "# Importing modules from SymPy\n",
    "from sympy import laplace_transform,inverse_laplace_transform,Symbol,N,plot"
   ]
  },
  {
   "cell_type": "code",
   "execution_count": 2,
   "metadata": {},
   "outputs": [],
   "source": [
    "# Creating Symbols to use in the Laplace Transforms.\n",
    "s = Symbol('s')\n",
    "t = Symbol('t',real=True,positive=True)"
   ]
  },
  {
   "cell_type": "code",
   "execution_count": 3,
   "metadata": {},
   "outputs": [],
   "source": [
    "# Creating Functions to handle Laplace Transforms.\n",
    "def L(f):\n",
    "    # noconds exclude the conditions for the laplace transform returning only the equation.\n",
    "    return laplace_transform(f,t,s,noconds=True)\n",
    "def InvL(F):\n",
    "    return inverse_laplace_transform(F,s,t)\n",
    "def Eval(f,x):\n",
    "    val = N(f.subs({t:x}))\n",
    "    print(\"y(t=\"+str(x)+\") = {:.2f}\".format(val))"
   ]
  },
  {
   "cell_type": "markdown",
   "metadata": {},
   "source": [
    "## Exercise 5.5\n",
    "\n",
    "A thermocouple has the following characteristics when it is immersed in a stirred bath:\n",
    "\n",
    "\n",
    "- Mass of thermocouple = 1 g\n",
    "- Heat capacity of thermocouple = 0.25 cal/g °C\n",
    "- Heat transfer coefficient = 20 cal/cm²h °C (for thermocouple and bath)\n",
    "- Surface area of thermocouple = 3 cm²\n",
    "\n",
    "#### (a)\n",
    "\n",
    "\n",
    "Derive a transfer function model for the thermocouple\n",
    "relating the change in its indicated output T to the change\n",
    "in the temperature of its surroundings Ts assuming uniform\n",
    "temperature (no gradients in the thermocouple bead), no\n",
    "conduction in the leads, constant physical properties, and conversion\n",
    "of the millivolt-level output directly to a °C reading\n",
    "by a very fast sensor.\n",
    "\n",
    "\n",
    "#### (b)\n",
    "\n",
    "\n",
    "If the thermocouple is initially out of the bath and at room\n",
    "temperature (23 °C), what is the maximum temperature that it\n",
    "will register if it is suddenly plunged into the bath (80 °C) and\n",
    "held there for 20 s?\n",
    "\n",
    "\n",
    "#### (c)\n",
    "\n",
    "Verify the result in (b) using computer simulation"
   ]
  },
  {
   "cell_type": "markdown",
   "metadata": {},
   "source": [
    "## Answer\n",
    "\n",
    "**(a)**\n",
    "\n",
    "\n",
    "$$\\frac{mC}{hA}\\frac{dT}{dt} = (T_s - T) $$\n",
    "\n",
    "where:\n",
    "\n",
    "- m: Mass of Thermocouple (g)\n",
    "- C: Heat Capacity of Thermocouple (cal/g°C)\n",
    "- h: Heat Transfer Coiefficient (cal/cm²s)\n",
    "- A: Surface Area of Thermocouple (cm²)\n",
    "\n",
    "\n",
    "Deviation Variables:\n",
    "\n",
    "- $T' = T - \\bar{T}$\n",
    "- $T'_s = T_s - \\bar{T_s}$\n",
    "- $\\bar{T} =  \\bar{T_s}$\n",
    "\n",
    "\n",
    "Substituting the values of h,A,m and C and changing the variables to deviation form:\n",
    "\n",
    "$$15\\frac{dT'}{dt} = (T'_s - T') $$\n",
    "\n",
    "\n",
    "Transfer Function Form:\n",
    "\n",
    "$$15sT'(s) = T'_s(s) - T'(s) $$\n",
    "\n",
    "$$T'(s) (15s+1) = T'_s(s)$$\n",
    "\n",
    "$$G(s) = \\frac{T'(s)}{T'_s(s)} = \\frac{1}{15s+1}$$\n",
    "\n",
    "\n",
    "We can see that the gain is 1°C/°C and the time constant is 15s.\n",
    "\n",
    "**(b)** and **(c)**\n",
    "\n",
    "When the thermocouple is plunged in the bath the surroundings temperature is steped  from 23°C to 80°C, hence a 57°C change.Therefore:\n",
    "\n",
    "$$T'_s(s) = \\frac{57}{s}$$\n",
    "\n",
    "$$T'(s) = \\frac{57}{s}\\frac{1}{15s+1}$$\n",
    "\n",
    "\n",
    "We can applied the inverse laplace and get the thermocouple response for the step change in the surroundings. To do that we'll use the SymPy library from Python.\n"
   ]
  },
  {
   "cell_type": "code",
   "execution_count": 4,
   "metadata": {
    "scrolled": true
   },
   "outputs": [
    {
     "data": {
      "image/png": "[encoded data removed]",
      "text/plain": [
       "<Figure size 432x288 with 1 Axes>"
      ]
     },
     "metadata": {
      "needs_background": "light"
     },
     "output_type": "display_data"
    }
   ],
   "source": [
    "# Step Change\n",
    "Ts = 57/s\n",
    "# Transfer Function\n",
    "G = 1/(15*s+1)\n",
    "# Thermocouple Response in Laplace Domain\n",
    "Tld = Ts*G\n",
    "# Thermocouple Response in Time Domain\n",
    "Ttd = InvL(Tld)\n",
    "plot(Ttd+23,(t,0,100),ylabel=\"T\",title=\"Thermocouple Response for Step Input\");"
   ]
  },
  {
   "cell_type": "code",
   "execution_count": 5,
   "metadata": {},
   "outputs": [
    {
     "name": "stdout",
     "output_type": "stream",
     "text": [
      "y(t=20) = 64.97\n"
     ]
    }
   ],
   "source": [
    "Eval(Ttd+23,20)"
   ]
  },
  {
   "cell_type": "markdown",
   "metadata": {},
   "source": [
    "## Exercise 5.6\n",
    "\n",
    "$$G(s) = \\frac{Y(s)}{U(s)} = \\frac{10}{(5s+1)(3s+1)}$$\n",
    "\n",
    "\n",
    "What is $y(t\\to\\infty)$ for the following inputs:\n",
    "\n",
    "\n",
    "**(a)** step input of height M\n",
    "\n",
    "\n",
    "**(b)** unit impulse $\\delta(t)$\n",
    "\n",
    "\n",
    "**(c)** $sin(t)$\n",
    "\n",
    "\n",
    "**(d)** unit rectangular impulse "
   ]
  },
  {
   "cell_type": "markdown",
   "metadata": {},
   "source": [
    "## Answer\n",
    "## (a)"
   ]
  },
  {
   "cell_type": "code",
   "execution_count": 6,
   "metadata": {},
   "outputs": [
    {
     "name": "stdout",
     "output_type": "stream",
     "text": [
      "y when times goes to infinity:\n"
     ]
    },
    {
     "data": {
      "text/latex": [
       "$\\displaystyle 10 M$"
      ],
      "text/plain": [
       "10*M"
      ]
     },
     "execution_count": 6,
     "metadata": {},
     "output_type": "execute_result"
    }
   ],
   "source": [
    "# Loading limit module from SymPy for the Final Theorem Value.\n",
    "from sympy import limit\n",
    "# Transfer Function\n",
    "G = 10/(5*s+1)/(3*s+1)\n",
    "# Step Input\n",
    "M = Symbol(\"M\",real=True)\n",
    "Ua = M/s\n",
    "Ya = Ua*G\n",
    "# Final Value Theorem.\n",
    "print(\"y when times goes to infinity:\")\n",
    "limit(Ya*s,s,0)"
   ]
  },
  {
   "cell_type": "markdown",
   "metadata": {},
   "source": [
    "## (b)"
   ]
  },
  {
   "cell_type": "code",
   "execution_count": 7,
   "metadata": {},
   "outputs": [
    {
     "name": "stdout",
     "output_type": "stream",
     "text": [
      "y when times goes to infinity:\n"
     ]
    },
    {
     "data": {
      "text/latex": [
       "$\\displaystyle 0$"
      ],
      "text/plain": [
       "0"
      ]
     },
     "execution_count": 7,
     "metadata": {},
     "output_type": "execute_result"
    }
   ],
   "source": [
    "Ub = 1\n",
    "Yb = G*Ub\n",
    "# Final Value Theorem.\n",
    "print(\"y when times goes to infinity:\")\n",
    "limit(Yb*s,s,0)"
   ]
  },
  {
   "cell_type": "markdown",
   "metadata": {},
   "source": [
    "## (c)"
   ]
  },
  {
   "cell_type": "code",
   "execution_count": 8,
   "metadata": {},
   "outputs": [
    {
     "data": {
      "text/latex": [
       "$\\displaystyle - \\frac{4 s + 7}{13 \\left(s^{2} + 1\\right)} + \\frac{625}{26 \\left(5 s + 1\\right)} - \\frac{27}{2 \\left(3 s + 1\\right)}$"
      ],
      "text/plain": [
       "-(4*s + 7)/(13*(s**2 + 1)) + 625/(26*(5*s + 1)) - 27/(2*(3*s + 1))"
      ]
     },
     "execution_count": 8,
     "metadata": {},
     "output_type": "execute_result"
    }
   ],
   "source": [
    "from sympy import sin\n",
    "uc = sin(t)\n",
    "Uc = L(uc)\n",
    "Yc = G*Uc\n",
    "Yc.apart(s)"
   ]
  },
  {
   "cell_type": "markdown",
   "metadata": {},
   "source": [
    "## (d)"
   ]
  },
  {
   "cell_type": "code",
   "execution_count": 9,
   "metadata": {},
   "outputs": [
    {
     "data": {
      "text/latex": [
       "$\\displaystyle \\frac{10 \\left(1 - e^{- s w}\\right)}{s \\left(3 s + 1\\right) \\left(5 s + 1\\right)}$"
      ],
      "text/plain": [
       "10*(1 - exp(-s*w))/(s*(3*s + 1)*(5*s + 1))"
      ]
     },
     "execution_count": 9,
     "metadata": {},
     "output_type": "execute_result"
    }
   ],
   "source": [
    "from sympy import exp\n",
    "w = Symbol(\"w\",real=True,positive=True)\n",
    "Ud = 1/s*(1-exp(-w*s))\n",
    "Yd = G*Ud\n",
    "Yd"
   ]
  },
  {
   "cell_type": "markdown",
   "metadata": {},
   "source": [
    "## Exercise 5.7\n",
    "\n",
    "Appelpolscher has just left a meeting with Stella J.\n",
    "Smarly, IGC’s vice-president for process operations and development.\n",
    "Smarly is concerned about an upcoming extended\n",
    "plant test of a method intended to improve the yields of a large\n",
    "packed-bed reactor. The basic idea, which came from IGC’s\n",
    "university consultant and was recently tested for feasibility\n",
    "in a brief run, involves operating the reactor cyclically so that\n",
    "nonlinearities in the system cause the time-average yield at the\n",
    "exit to exceed the steady-state value. Smarly is worried about\n",
    "the possibility of sintering the catalyst during an extended\n",
    "run, particularly in the region of the “hotspot” (axially about\n",
    "one-third of the way down the bed and at the centerline)\n",
    "where temperatures invariably peak. Appelpolscher, who\n",
    "plans to leave the next day on a two-week big game photo\n",
    "safari, doesn’t want to cancel his vacation. On the other hand,\n",
    "Smarly has told him he faces early, unexpected retirement in\n",
    "Botswana if the measurement device (located near the hot\n",
    "spot) fails to alert operating people and the reactor catalyst sinters.\n",
    "Appelpolscher likes Botswana but doesn’t want to retire\n",
    "there. He manages to pull together the following data and\n",
    "assumptions before heading for the airport and leaves them\n",
    "with you for analysis with the offer of the use of his swimming\n",
    "pool while he is gone. What do you report to Smarly?\n",
    "\n",
    "\n",
    "**Data:**\n",
    "\n",
    "\n",
    "- Frequency of cyclic operation = 0.1 cycles/min\n",
    "- Amplitude of thermal wave (temperature) at the measurement point obtained experimentally in the recent brief run = 15 ∘C\n",
    "- Average operating temperature at the measurement point, Tmeas = 350 ∘C\n",
    "- Timeconstant of temperature sensor and thermowell = 1.5 min\n",
    "- Temperature at the reactor wall = 200 ∘C\n",
    "- Temperature at which the catalyst sinters if operated for several hours = 700 ∘C\n",
    "- Temperature at which the catalyst sinters instantaneously = 715 ∘C\n",
    "\n",
    "\n",
    "**Assumptions:**\n",
    "\n",
    "\n",
    "- The reactor operational cycle is approximately sinusoidal at the measurement point.\n",
    "- The thermowell is located near the reactor wall so as to measure a “radial average” temperature rather than the centerline temperature.\n",
    "- The approximate relation is: $$T = \\frac{T_{center}+2T_{wall}}{3}$$  which also holds during transient operation."
   ]
  },
  {
   "cell_type": "markdown",
   "metadata": {},
   "source": [
    "## Answer\n",
    "\n",
    "We know that:\n",
    "\n",
    "- $\\tau = 1.5 min$\n",
    "- $T_{wall} = 200°C$\n",
    "- $\\omega = 2 \\times \\pi \\times 0.1  rad/min = 0.628$\n",
    "- $A = 15°C$\n",
    "\n",
    "And the transfer function is:\n",
    "\n",
    "\n",
    "$$\\frac{T_m}{T} = \\frac{1}{1.5s+1}$$"
   ]
  },
  {
   "cell_type": "code",
   "execution_count": 18,
   "metadata": {},
   "outputs": [],
   "source": [
    "A = Symbol(\"A\",positive=True,real=True)\n",
    "om = Symbol(\"omega\",positive=True,real=True)\n",
    "tau = Symbol(\"tau\",positive=True,real=True)\n",
    "Twall = 200\n",
    "T0 = 350\n",
    "Tm_t = A*sin(t*om)\n",
    "Tm_l = L(Tm_t)\n",
    "T_l = Tm_l*(tau*s+1)\n",
    "T_t = InvL(T_l)"
   ]
  },
  {
   "cell_type": "code",
   "execution_count": 69,
   "metadata": {},
   "outputs": [
    {
     "data": {
      "image/png": "[encoded data removed]",
      "text/plain": [
       "<Figure size 864x432 with 1 Axes>"
      ]
     },
     "metadata": {
      "needs_background": "light"
     },
     "output_type": "display_data"
    }
   ],
   "source": [
    "#\n",
    "T = T_t.subs({A:15,om:0.628,tau:1.5})+350\n",
    "Tcent = T*3-2*Twall\n",
    "p = plot(Tcent,700,715,(t,0,100),\\\n",
    "         show=False\\\n",
    "         ,ylabel=\"Temperature (°C)\"\\\n",
    "         ,title=\"Center Temperature Over Time\"\\\n",
    "         ,size=(12,6),label=\"$T_{center}$\",legend=True);\n",
    "p[1].line_color = 'green'\n",
    "p[2].line_color = \"red\"\n",
    "p[1].label = 'Sinter After Hours'\n",
    "p[2].label = \"Sinter Inst\"\n",
    "p.show()"
   ]
  },
  {
   "cell_type": "markdown",
   "metadata": {},
   "source": []
  },
  {
   "cell_type": "markdown",
   "metadata": {},
   "source": [
    "## Exercise 5.9\n",
    "\n",
    "##  (a) \n",
    "\n",
    "- **System I:**\n",
    "\n",
    "\n",
    "From mass balance:\n",
    "\n",
    "$$\\frac{dm}{dt} = \\dot{m_{in}} - \\dot{m_{out}} $$\n",
    "\n",
    "considering constant density\n",
    "\n",
    "\n",
    "$$A\\frac{dh}{dt} = q_i - q $$\n",
    "\n",
    "since the flow is in gal/min and our A (12.6ft²) and h are in ft² we need to convert the flow. gal - ft³ (x 0.1337 = B)\n",
    "\n",
    "$$A\\frac{dh}{dt} = B(q_i - 8.33h) $$\n",
    "\n",
    "$$AsH(s) = BQ_i(s) - 8.33BH(s) \\Rightarrow \\frac{H(s)}{Qi(s)} = \\frac{0.12}{11.28s+1}$$\n",
    "\n",
    "\n",
    "- **System II:**\n",
    "\n",
    "\n",
    "Since the outlet flow does no change because of the pump we have:\n",
    "\n",
    "$$A\\frac{dh}{dt} = B(q_i - q)$$\n",
    "\n",
    "$$\\frac{H(s)}{Qi(s)} = \\frac{0.0106}{s}$$\n",
    "\n",
    "\n",
    "## (b)\n",
    "\n",
    "Since $q_i$ suddenly changed from 50 gal/min to 70 gal/min we have that $Q_i(s) = \\frac{20}{s}$, then:\n",
    "\n",
    "\n",
    "- **System I:**\n",
    "\n",
    "$$Y(s) = \\frac{0.12}{11.28s+1}\\frac{20}{s}$$\n",
    "\n",
    "- **System II:**\n",
    "\n",
    "$$Y(s) = \\frac{0.0106}{s}\\frac{20}{s} $$"
   ]
  },
  {
   "cell_type": "code",
   "execution_count": 116,
   "metadata": {},
   "outputs": [
    {
     "data": {
      "image/png": "[encoded data removed]",
      "text/plain": [
       "<Figure size 432x288 with 1 Axes>"
      ]
     },
     "metadata": {
      "needs_background": "light"
     },
     "output_type": "display_data"
    }
   ],
   "source": [
    "# Step Change\n",
    "Qi = 20/s\n",
    "# System I\n",
    "G1 = 0.12/(11.28*s+1)\n",
    "Y1 = G1*Qi\n",
    "# System II\n",
    "G2 = 0.0106/s\n",
    "Y2 = G2*Qi\n",
    "# System I Response\n",
    "y1 = InvL(Y1)\n",
    "# System II Response\n",
    "y2 = InvL(Y2)\n",
    "# Plotting Responses for the initial steady state h = 6ft\n",
    "p = plot(y1+6,y2+6,8,(t,0,30),show=False,label=\"System I\",title=\"Comparison between Systems\",legend=True,ylabel=\"h(t)\")\n",
    "p[1].line_color = 'green'\n",
    "p[2].line_color = 'r'\n",
    "p[1].label=\"System II\"\n",
    "p[2].label=\"Tank Limit\"\n",
    "p.show()"
   ]
  },
  {
   "cell_type": "code",
   "execution_count": 114,
   "metadata": {},
   "outputs": [
    {
     "data": {
      "text/latex": [
       "$\\displaystyle 2.4 - 2.4 e^{- 0.0886524822695035 t}$"
      ],
      "text/plain": [
       "2.4 - 2.4*exp(-0.0886524822695035*t)"
      ]
     },
     "execution_count": 114,
     "metadata": {},
     "output_type": "execute_result"
    }
   ],
   "source": [
    "###### Response for System I\n",
    "y1"
   ]
  },
  {
   "cell_type": "code",
   "execution_count": 115,
   "metadata": {},
   "outputs": [
    {
     "data": {
      "text/latex": [
       "$\\displaystyle 0.212 t$"
      ],
      "text/plain": [
       "0.212*t"
      ]
     },
     "execution_count": 115,
     "metadata": {},
     "output_type": "execute_result"
    }
   ],
   "source": [
    "###### Response for System I\n",
    "y2"
   ]
  },
  {
   "cell_type": "markdown",
   "metadata": {},
   "source": [
    "## (c) (d) (e)\n",
    "\n",
    "We can through the responses plot that System II does not converge to a new steady-state, while System I converges to a height close to 8.2. Furthermore, knowing that the tank height is 8 ft one can conclude that System II outflows first, because the green line (System II) in the plot crosses the red line (Tank Limit) first.\n",
    "\n",
    "\n",
    "It's possible to get the exact value of the new steady state for the systems using SymPy limit function. We can choose to use the responses and take the limit as time goes to infinity or to use the Final Value Theorem and calculate the limit of $\\lim_{s\\to0}sY(s)$"
   ]
  },
  {
   "cell_type": "code",
   "execution_count": 104,
   "metadata": {},
   "outputs": [
    {
     "name": "stdout",
     "output_type": "stream",
     "text": [
      "The new steady state for System I: 8.40 ft\n",
      "The new steady state for System II: oo ft\n"
     ]
    }
   ],
   "source": [
    "K1 = limit(Y1*s,s,0)+6\n",
    "K2 = limit(Y2*s,s,0)+6\n",
    "print(\"The new steady state for System I: {:.2f} ft\".format(K1))\n",
    "print(\"The new steady state for System II: {} ft\".format(K2))"
   ]
  },
  {
   "cell_type": "markdown",
   "metadata": {},
   "source": [
    "## Exercise 5.10\n",
    "\n",
    "The dynamic behavior of the liquid level in a leg ofa manometer tube, responding to a change in pressure, is given by \n",
    "\n",
    "$$\\frac{d^2h'}{dt^2} + \\frac{6\\mu}{R^2\\rho} \\frac{dh'}{dt} +\\frac{3g}{2L}h' = \\frac{3}{4\\rho L}p'(t)$$\n",
    "\n",
    "\n",
    "where h′(t) is the level of fluid measured with respect to the initial steady-state value, p′(t) is the pressure change, and R, L, g, ρ, and μ are constants.\n",
    "- (a) Rearrange this equation into standard gain-time constant\n",
    "form and find expressions for K, τ, ζ in terms of the physical\n",
    "constants.\n",
    "- (b) For what values of the physical constants does the\n",
    "manometer response oscillate?\n",
    "- (c) Would changing the manometer fluid so that ρ (density) is\n",
    "larger make its response more oscillatory, or less? Repeat the\n",
    "analysis for an increase in μ (viscosity)."
   ]
  },
  {
   "cell_type": "markdown",
   "metadata": {},
   "source": [
    "## Answers\n",
    "\n",
    "## (a)\n",
    "\n",
    "Second-order transfer function in the standard gain-time constant form:\n",
    "\n",
    "$$G(s) = \\frac{K_p}{\\tau^2s^2+2\\tau\\zeta s + 1 }$$\n",
    "\n",
    "\n",
    "Which corresponds to:\n",
    "\n",
    "\n",
    "$$\\tau^2\\frac{d^2y(t)}{dt^2} + 2\\zeta\\tau\\frac{dy(t)}{dt} + y(t) = K_p u(t)$$\n",
    "\n",
    "\n",
    "Therefore, the equation could be rearranged as:\n",
    "\n",
    "\n",
    "$$\\frac{2L}{3g} \\frac{d^2h'}{dt^2} + \\frac{2L}{3g} \\frac{6\\mu}{R^2\\rho} \\frac{dh'}{dt} + h' = \\frac{2L}{3g} \\frac{3}{4\\rho L}p'(t) $$\n",
    "\n",
    "\n",
    "Where:\n",
    "\n",
    "\n",
    "- $\\tau = \\sqrt\\frac{2L}{3g}$\n",
    "- $\\zeta =  \\frac{3\\mu}{R^2\\rho}\\sqrt\\frac{2L}{3g}$\n",
    "- $K_p = \\frac{2L}{3g} \\frac{3}{4\\rho L} = \\frac{1}{2\\rho g} $\n",
    "\n",
    "## (b)\n",
    "\n",
    "\n",
    "The response will oscilate if $0 < \\zeta < 1$, thus the response will oscilate for:\n",
    "\n",
    "$$0 < \\frac{3\\mu}{R^2\\rho}\\sqrt\\frac{2L}{3g} < 1 $$\n",
    "\n",
    "\n",
    "## (c)\n",
    "\n",
    "- $\\uparrow \\rho \\downarrow \\zeta $, hence more oscillatory.\n",
    "- $\\uparrow \\mu \\uparrow \\zeta$, hence less oscillatory.\n",
    "\n"
   ]
  },
  {
   "cell_type": "code",
   "execution_count": null,
   "metadata": {},
   "outputs": [],
   "source": []
  }
 ],
 "metadata": {
  "hide_input": false,
  "kernelspec": {
   "display_name": "Python 3",
   "language": "python",
   "name": "python3"
  },
  "language_info": {
   "codemirror_mode": {
    "name": "ipython",
    "version": 3
   },
   "file_extension": ".py",
   "mimetype": "text/x-python",
   "name": "python",
   "nbconvert_exporter": "python",
   "pygments_lexer": "ipython3",
   "version": "3.6.10"
  },
  "varInspector": {
   "cols": {
    "lenName": 16,
    "lenType": 16,
    "lenVar": 40
   },
   "kernels_config": {
    "python": {
     "delete_cmd_postfix": "",
     "delete_cmd_prefix": "del ",
     "library": "var_list.py",
     "varRefreshCmd": "print(var_dic_list())"
    },
    "r": {
     "delete_cmd_postfix": ") ",
     "delete_cmd_prefix": "rm(",
     "library": "var_list.r",
     "varRefreshCmd": "cat(var_dic_list()) "
    }
   },
   "types_to_exclude": [
    "module",
    "function",
    "builtin_function_or_method",
    "instance",
    "_Feature"
   ],
   "window_display": false
  }
 },
 "nbformat": 4,
 "nbformat_minor": 4
}
